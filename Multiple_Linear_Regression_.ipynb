{
  "nbformat": 4,
  "nbformat_minor": 0,
  "metadata": {
    "colab": {
      "provenance": [],
      "authorship_tag": "ABX9TyNWtGKiqyWzAusW2R1eEudt",
      "include_colab_link": true
    },
    "kernelspec": {
      "name": "python3",
      "display_name": "Python 3"
    },
    "language_info": {
      "name": "python"
    }
  },
  "cells": [
    {
      "cell_type": "markdown",
      "metadata": {
        "id": "view-in-github",
        "colab_type": "text"
      },
      "source": [
        "<a href=\"https://colab.research.google.com/github/prince545/exploratory-data-analysis/blob/main/Multiple_Linear_Regression_.ipynb\" target=\"_parent\"><img src=\"https://colab.research.google.com/assets/colab-badge.svg\" alt=\"Open In Colab\"/></a>"
      ]
    },
    {
      "cell_type": "code",
      "execution_count": 1,
      "metadata": {
        "colab": {
          "base_uri": "https://localhost:8080/",
          "height": 611
        },
        "id": "a_Bq0y7Dd_hb",
        "outputId": "4f057457-0654-457e-dfe7-2b571a89417f"
      },
      "outputs": [
        {
          "output_type": "display_data",
          "data": {
            "text/html": [
              "<html>\n",
              "<head><meta charset=\"utf-8\" /></head>\n",
              "<body>\n",
              "    <div>            <script src=\"https://cdnjs.cloudflare.com/ajax/libs/mathjax/2.7.5/MathJax.js?config=TeX-AMS-MML_SVG\"></script><script type=\"text/javascript\">if (window.MathJax && window.MathJax.Hub && window.MathJax.Hub.Config) {window.MathJax.Hub.Config({SVG: {font: \"STIX-Web\"}});}</script>                <script type=\"text/javascript\">window.PlotlyConfig = {MathJaxConfig: 'local'};</script>\n",
              "        <script charset=\"utf-8\" src=\"https://cdn.plot.ly/plotly-2.35.2.min.js\"></script>                <div id=\"1d2ad4ba-a280-475d-9b1c-60c29e037c3a\" class=\"plotly-graph-div\" style=\"height:525px; width:100%;\"></div>            <script type=\"text/javascript\">                                    window.PLOTLYENV=window.PLOTLYENV || {};                                    if (document.getElementById(\"1d2ad4ba-a280-475d-9b1c-60c29e037c3a\")) {                    Plotly.newPlot(                        \"1d2ad4ba-a280-475d-9b1c-60c29e037c3a\",                        [{\"hovertemplate\":\"Feature 1=%{x}\\u003cbr\\u003eFeature 2=%{y}\\u003cbr\\u003eTarget=%{z}\\u003cextra\\u003e\\u003c\\u002fextra\\u003e\",\"legendgroup\":\"\",\"marker\":{\"color\":\"#636efa\",\"symbol\":\"circle\"},\"mode\":\"markers\",\"name\":\"\",\"scene\":\"scene\",\"showlegend\":false,\"x\":[-1.1913034972026486,0.058208718445999896,0.5868570938002703,0.47323762457354485,0.7384665799954104,-0.8895144296255233,-1.9187712152990415,-0.4465149520670211,0.812525822394198,1.1428228145150205,-1.1063349740060282,0.6256673477650062,-0.600638689918805,-0.39210815313215763,-0.23415337472333597,-0.846793718068405,0.9154021177020741,0.324083969394795,0.09707754934804039,-0.07201012158033385,-0.46341769281246226,-1.0623037137261049,1.5792128155073915,0.01300189187790702,-0.9194242342338032,-0.21967188783751193,0.00511345664246089,-1.3281860488984305,-0.11564828238824053,0.4967141530112327,0.0917607765355023,0.173180925851182,-1.7249178325130328,-0.6800247215784908,-1.4153707420504142,1.8861859012105302,0.6476885381006925,-0.6769220003059587,0.29307247329868125,0.9633761292443218,0.24196227156603412,-2.6197451040897444,-0.2453881160028705,-0.9080240755212109,0.5219415656168976,0.8135172173696698,-0.7020530938773524,0.822544912103189,1.465648768921554,-0.8084936028931876,-0.8392175232226385,0.09965136508764122,0.36163602504763415,-0.4694743859349521,-0.47917423784528995,-1.1509935774223028,0.82206015999449,-0.19236096478112252,1.477894044741516,-1.5506634310661327,-0.5297602037670388,0.08704706823817122,0.06023020994102644,-1.236950710878082,-0.0771017094141042,-0.16128571166600914,-1.6074832345612275,0.3436182895684614,1.8657745111447566,-0.7832532923362371,-0.6017066122293969,-0.3427145165267695,1.030999522495951,0.22745993460412942,-1.0128311203344238,0.25049285034587654,-0.9746816702273214,0.7910319470430469,-0.2646568332379561,0.21409374413020396,0.2088635950047554,-0.03471176970524331,0.27669079933001905,-1.0708924980611123,-0.013497224737933921,0.33126343140356396,-0.2234627853258509,-0.5443827245251827,0.25755039072276437,0.06752820468792384,-0.03582603910995154,1.4027943109360992,-1.4785219903674274,-0.883857436201133,1.158595579007404,0.36139560550841393,0.29612027706457605,-0.9905363251306883,-0.4606387709597875,0.25988279424842353],\"y\":[0.6565536086338297,-1.142970297830623,2.1904556258099785,-0.07282891265687277,0.1713682811899705,-0.8158102849654383,-0.026513875449216878,0.8563987943234723,1.356240028570823,0.7519330326867741,-1.1962066240806708,-0.8571575564162826,-0.2916937497932768,-1.4635149481321186,-0.23413695694918055,-1.5148472246858646,0.32875110965968446,-0.38508228041631654,0.9686449905328892,1.0035328978920242,-0.46572975357025687,0.4735924306351816,0.7674347291529088,1.4535340771573169,1.5499344050175394,0.3571125715117464,-0.23458713337514692,0.19686123586912352,-0.3011036955892888,-0.13826430117118466,-1.9875689146008928,0.3853173797288368,-0.5622875292409727,0.23225369716100355,-0.42064532276535904,0.17457781283183896,1.5230298564080254,0.6116762888408679,-0.7143514180263678,0.4127809269364983,-1.913280244657798,0.8219025043752238,-0.7537361643574896,-1.4123037013352915,0.29698467323318606,-1.2308643164339552,-0.3276621465977682,-1.2208436499710222,-0.22577630048653566,-0.5017570435845365,-0.3092123758512146,-0.5034756541161992,-0.6451197546051243,0.5425600435859647,-0.18565897666381712,0.37569801834567196,1.8967929826539474,0.30154734233361247,-0.5182702182736474,0.06856297480602733,0.5132674331133561,-0.29900735046586746,2.463242112485286,-1.3204566130842763,0.3411519748166439,0.4040508568145384,0.1846338585323042,-1.763040155362734,0.4738329209117875,-0.3220615162056756,1.8522781845089378,-0.8022772692216189,0.9312801191161986,1.307142754282428,0.3142473325952739,0.3464482094969757,0.787084603742452,-0.9093874547947389,2.720169166589619,-1.245738778711988,-1.9596701238797756,-1.168678037619532,0.8271832490360238,0.4824724152431853,-1.0577109289559004,0.9755451271223592,0.714000494092092,0.11092258970986608,-0.07444591576616721,-1.4247481862134568,1.5646436558140062,-1.4018510627922809,-0.7198442083947086,0.1537251059455279,-0.8206823183517105,1.5380365664659692,0.26105527217988933,-0.5662977296027719,1.0571222262189157,0.7818228717773104],\"z\":[-22.779796252946397,-107.56962856406304,201.1229321656854,1.4801777832279086,111.79850317779693,-109.06040615460115,-205.69535751710703,39.62829163988644,278.952037278478,152.99276786766043,-218.25810159965738,-38.0694113822567,-112.9474395603537,-122.5660224551526,-106.77158596262767,-141.53053527336868,87.94270552249156,-53.978670975976804,47.60504221314547,99.71654472205083,-49.46952150717766,-80.12365057603625,148.51378427433266,98.40788138336156,40.68349906628537,32.429722642342334,28.96425961567256,-195.31186445255884,-113.08727927593483,87.49073886218667,-144.91884639021288,75.21897246535875,-0.3555668024171439,-38.96880862490034,-49.23309316730712,154.20934470411498,222.33782298731398,-49.84543904963683,-46.46920147574407,221.7532117947336,-94.74829375640014,-126.3437560150575,-84.9533569292297,-127.50833131215776,77.74642484640502,-91.59586338475648,2.404280508324632,-14.17468370591856,159.5673646469662,-168.11845911569378,-133.05449964759828,53.067811190202484,-117.31660520177152,24.75249029609264,-53.51589966120678,-35.206085880280185,115.02942640491405,44.19215040935537,134.56237218902163,-202.47917269449752,-32.20575859791152,-54.13828772568513,209.944653325161,-183.23683279737733,32.556364705700965,-60.18845285745921,-126.84750048942766,-97.23833750961681,204.47395448638406,-20.51417668531731,72.57790682938794,-37.87576816607387,193.42331792555427,174.94394289388546,-37.040093384591586,17.630520429704767,52.08965308833726,-160.02492285555394,153.63127074780715,-32.85330478017353,-11.108155162063895,-135.96404223345033,54.41626886899306,-15.737076807374095,-103.80429382715525,112.15241245942076,51.135667164402264,-55.3093392184248,80.42761539584387,-67.04656905074297,79.67128838221234,-31.98671408799804,-206.64193127473393,-107.60954851618037,-21.032289371826266,154.96351513673127,-17.725246688907397,-191.24570758137543,92.340621527101,31.640968806208548],\"type\":\"scatter3d\"}],                        {\"template\":{\"data\":{\"histogram2dcontour\":[{\"type\":\"histogram2dcontour\",\"colorbar\":{\"outlinewidth\":0,\"ticks\":\"\"},\"colorscale\":[[0.0,\"#0d0887\"],[0.1111111111111111,\"#46039f\"],[0.2222222222222222,\"#7201a8\"],[0.3333333333333333,\"#9c179e\"],[0.4444444444444444,\"#bd3786\"],[0.5555555555555556,\"#d8576b\"],[0.6666666666666666,\"#ed7953\"],[0.7777777777777778,\"#fb9f3a\"],[0.8888888888888888,\"#fdca26\"],[1.0,\"#f0f921\"]]}],\"choropleth\":[{\"type\":\"choropleth\",\"colorbar\":{\"outlinewidth\":0,\"ticks\":\"\"}}],\"histogram2d\":[{\"type\":\"histogram2d\",\"colorbar\":{\"outlinewidth\":0,\"ticks\":\"\"},\"colorscale\":[[0.0,\"#0d0887\"],[0.1111111111111111,\"#46039f\"],[0.2222222222222222,\"#7201a8\"],[0.3333333333333333,\"#9c179e\"],[0.4444444444444444,\"#bd3786\"],[0.5555555555555556,\"#d8576b\"],[0.6666666666666666,\"#ed7953\"],[0.7777777777777778,\"#fb9f3a\"],[0.8888888888888888,\"#fdca26\"],[1.0,\"#f0f921\"]]}],\"heatmap\":[{\"type\":\"heatmap\",\"colorbar\":{\"outlinewidth\":0,\"ticks\":\"\"},\"colorscale\":[[0.0,\"#0d0887\"],[0.1111111111111111,\"#46039f\"],[0.2222222222222222,\"#7201a8\"],[0.3333333333333333,\"#9c179e\"],[0.4444444444444444,\"#bd3786\"],[0.5555555555555556,\"#d8576b\"],[0.6666666666666666,\"#ed7953\"],[0.7777777777777778,\"#fb9f3a\"],[0.8888888888888888,\"#fdca26\"],[1.0,\"#f0f921\"]]}],\"heatmapgl\":[{\"type\":\"heatmapgl\",\"colorbar\":{\"outlinewidth\":0,\"ticks\":\"\"},\"colorscale\":[[0.0,\"#0d0887\"],[0.1111111111111111,\"#46039f\"],[0.2222222222222222,\"#7201a8\"],[0.3333333333333333,\"#9c179e\"],[0.4444444444444444,\"#bd3786\"],[0.5555555555555556,\"#d8576b\"],[0.6666666666666666,\"#ed7953\"],[0.7777777777777778,\"#fb9f3a\"],[0.8888888888888888,\"#fdca26\"],[1.0,\"#f0f921\"]]}],\"contourcarpet\":[{\"type\":\"contourcarpet\",\"colorbar\":{\"outlinewidth\":0,\"ticks\":\"\"}}],\"contour\":[{\"type\":\"contour\",\"colorbar\":{\"outlinewidth\":0,\"ticks\":\"\"},\"colorscale\":[[0.0,\"#0d0887\"],[0.1111111111111111,\"#46039f\"],[0.2222222222222222,\"#7201a8\"],[0.3333333333333333,\"#9c179e\"],[0.4444444444444444,\"#bd3786\"],[0.5555555555555556,\"#d8576b\"],[0.6666666666666666,\"#ed7953\"],[0.7777777777777778,\"#fb9f3a\"],[0.8888888888888888,\"#fdca26\"],[1.0,\"#f0f921\"]]}],\"surface\":[{\"type\":\"surface\",\"colorbar\":{\"outlinewidth\":0,\"ticks\":\"\"},\"colorscale\":[[0.0,\"#0d0887\"],[0.1111111111111111,\"#46039f\"],[0.2222222222222222,\"#7201a8\"],[0.3333333333333333,\"#9c179e\"],[0.4444444444444444,\"#bd3786\"],[0.5555555555555556,\"#d8576b\"],[0.6666666666666666,\"#ed7953\"],[0.7777777777777778,\"#fb9f3a\"],[0.8888888888888888,\"#fdca26\"],[1.0,\"#f0f921\"]]}],\"mesh3d\":[{\"type\":\"mesh3d\",\"colorbar\":{\"outlinewidth\":0,\"ticks\":\"\"}}],\"scatter\":[{\"fillpattern\":{\"fillmode\":\"overlay\",\"size\":10,\"solidity\":0.2},\"type\":\"scatter\"}],\"parcoords\":[{\"type\":\"parcoords\",\"line\":{\"colorbar\":{\"outlinewidth\":0,\"ticks\":\"\"}}}],\"scatterpolargl\":[{\"type\":\"scatterpolargl\",\"marker\":{\"colorbar\":{\"outlinewidth\":0,\"ticks\":\"\"}}}],\"bar\":[{\"error_x\":{\"color\":\"#2a3f5f\"},\"error_y\":{\"color\":\"#2a3f5f\"},\"marker\":{\"line\":{\"color\":\"#E5ECF6\",\"width\":0.5},\"pattern\":{\"fillmode\":\"overlay\",\"size\":10,\"solidity\":0.2}},\"type\":\"bar\"}],\"scattergeo\":[{\"type\":\"scattergeo\",\"marker\":{\"colorbar\":{\"outlinewidth\":0,\"ticks\":\"\"}}}],\"scatterpolar\":[{\"type\":\"scatterpolar\",\"marker\":{\"colorbar\":{\"outlinewidth\":0,\"ticks\":\"\"}}}],\"histogram\":[{\"marker\":{\"pattern\":{\"fillmode\":\"overlay\",\"size\":10,\"solidity\":0.2}},\"type\":\"histogram\"}],\"scattergl\":[{\"type\":\"scattergl\",\"marker\":{\"colorbar\":{\"outlinewidth\":0,\"ticks\":\"\"}}}],\"scatter3d\":[{\"type\":\"scatter3d\",\"line\":{\"colorbar\":{\"outlinewidth\":0,\"ticks\":\"\"}},\"marker\":{\"colorbar\":{\"outlinewidth\":0,\"ticks\":\"\"}}}],\"scattermapbox\":[{\"type\":\"scattermapbox\",\"marker\":{\"colorbar\":{\"outlinewidth\":0,\"ticks\":\"\"}}}],\"scatterternary\":[{\"type\":\"scatterternary\",\"marker\":{\"colorbar\":{\"outlinewidth\":0,\"ticks\":\"\"}}}],\"scattercarpet\":[{\"type\":\"scattercarpet\",\"marker\":{\"colorbar\":{\"outlinewidth\":0,\"ticks\":\"\"}}}],\"carpet\":[{\"aaxis\":{\"endlinecolor\":\"#2a3f5f\",\"gridcolor\":\"white\",\"linecolor\":\"white\",\"minorgridcolor\":\"white\",\"startlinecolor\":\"#2a3f5f\"},\"baxis\":{\"endlinecolor\":\"#2a3f5f\",\"gridcolor\":\"white\",\"linecolor\":\"white\",\"minorgridcolor\":\"white\",\"startlinecolor\":\"#2a3f5f\"},\"type\":\"carpet\"}],\"table\":[{\"cells\":{\"fill\":{\"color\":\"#EBF0F8\"},\"line\":{\"color\":\"white\"}},\"header\":{\"fill\":{\"color\":\"#C8D4E3\"},\"line\":{\"color\":\"white\"}},\"type\":\"table\"}],\"barpolar\":[{\"marker\":{\"line\":{\"color\":\"#E5ECF6\",\"width\":0.5},\"pattern\":{\"fillmode\":\"overlay\",\"size\":10,\"solidity\":0.2}},\"type\":\"barpolar\"}],\"pie\":[{\"automargin\":true,\"type\":\"pie\"}]},\"layout\":{\"autotypenumbers\":\"strict\",\"colorway\":[\"#636efa\",\"#EF553B\",\"#00cc96\",\"#ab63fa\",\"#FFA15A\",\"#19d3f3\",\"#FF6692\",\"#B6E880\",\"#FF97FF\",\"#FECB52\"],\"font\":{\"color\":\"#2a3f5f\"},\"hovermode\":\"closest\",\"hoverlabel\":{\"align\":\"left\"},\"paper_bgcolor\":\"white\",\"plot_bgcolor\":\"#E5ECF6\",\"polar\":{\"bgcolor\":\"#E5ECF6\",\"angularaxis\":{\"gridcolor\":\"white\",\"linecolor\":\"white\",\"ticks\":\"\"},\"radialaxis\":{\"gridcolor\":\"white\",\"linecolor\":\"white\",\"ticks\":\"\"}},\"ternary\":{\"bgcolor\":\"#E5ECF6\",\"aaxis\":{\"gridcolor\":\"white\",\"linecolor\":\"white\",\"ticks\":\"\"},\"baxis\":{\"gridcolor\":\"white\",\"linecolor\":\"white\",\"ticks\":\"\"},\"caxis\":{\"gridcolor\":\"white\",\"linecolor\":\"white\",\"ticks\":\"\"}},\"coloraxis\":{\"colorbar\":{\"outlinewidth\":0,\"ticks\":\"\"}},\"colorscale\":{\"sequential\":[[0.0,\"#0d0887\"],[0.1111111111111111,\"#46039f\"],[0.2222222222222222,\"#7201a8\"],[0.3333333333333333,\"#9c179e\"],[0.4444444444444444,\"#bd3786\"],[0.5555555555555556,\"#d8576b\"],[0.6666666666666666,\"#ed7953\"],[0.7777777777777778,\"#fb9f3a\"],[0.8888888888888888,\"#fdca26\"],[1.0,\"#f0f921\"]],\"sequentialminus\":[[0.0,\"#0d0887\"],[0.1111111111111111,\"#46039f\"],[0.2222222222222222,\"#7201a8\"],[0.3333333333333333,\"#9c179e\"],[0.4444444444444444,\"#bd3786\"],[0.5555555555555556,\"#d8576b\"],[0.6666666666666666,\"#ed7953\"],[0.7777777777777778,\"#fb9f3a\"],[0.8888888888888888,\"#fdca26\"],[1.0,\"#f0f921\"]],\"diverging\":[[0,\"#8e0152\"],[0.1,\"#c51b7d\"],[0.2,\"#de77ae\"],[0.3,\"#f1b6da\"],[0.4,\"#fde0ef\"],[0.5,\"#f7f7f7\"],[0.6,\"#e6f5d0\"],[0.7,\"#b8e186\"],[0.8,\"#7fbc41\"],[0.9,\"#4d9221\"],[1,\"#276419\"]]},\"xaxis\":{\"gridcolor\":\"white\",\"linecolor\":\"white\",\"ticks\":\"\",\"title\":{\"standoff\":15},\"zerolinecolor\":\"white\",\"automargin\":true,\"zerolinewidth\":2},\"yaxis\":{\"gridcolor\":\"white\",\"linecolor\":\"white\",\"ticks\":\"\",\"title\":{\"standoff\":15},\"zerolinecolor\":\"white\",\"automargin\":true,\"zerolinewidth\":2},\"scene\":{\"xaxis\":{\"backgroundcolor\":\"#E5ECF6\",\"gridcolor\":\"white\",\"linecolor\":\"white\",\"showbackground\":true,\"ticks\":\"\",\"zerolinecolor\":\"white\",\"gridwidth\":2},\"yaxis\":{\"backgroundcolor\":\"#E5ECF6\",\"gridcolor\":\"white\",\"linecolor\":\"white\",\"showbackground\":true,\"ticks\":\"\",\"zerolinecolor\":\"white\",\"gridwidth\":2},\"zaxis\":{\"backgroundcolor\":\"#E5ECF6\",\"gridcolor\":\"white\",\"linecolor\":\"white\",\"showbackground\":true,\"ticks\":\"\",\"zerolinecolor\":\"white\",\"gridwidth\":2}},\"shapedefaults\":{\"line\":{\"color\":\"#2a3f5f\"}},\"annotationdefaults\":{\"arrowcolor\":\"#2a3f5f\",\"arrowhead\":0,\"arrowwidth\":1},\"geo\":{\"bgcolor\":\"white\",\"landcolor\":\"#E5ECF6\",\"subunitcolor\":\"white\",\"showland\":true,\"showlakes\":true,\"lakecolor\":\"white\"},\"title\":{\"x\":0.05},\"mapbox\":{\"style\":\"light\"}}},\"scene\":{\"domain\":{\"x\":[0.0,1.0],\"y\":[0.0,1.0]},\"xaxis\":{\"title\":{\"text\":\"Feature 1\"}},\"yaxis\":{\"title\":{\"text\":\"Feature 2\"}},\"zaxis\":{\"title\":{\"text\":\"Target\"}}},\"legend\":{\"tracegroupgap\":0},\"title\":{\"text\":\"3D Scatter Plot of Features vs Target\"}},                        {\"responsive\": true}                    ).then(function(){\n",
              "                            \n",
              "var gd = document.getElementById('1d2ad4ba-a280-475d-9b1c-60c29e037c3a');\n",
              "var x = new MutationObserver(function (mutations, observer) {{\n",
              "        var display = window.getComputedStyle(gd).display;\n",
              "        if (!display || display === 'none') {{\n",
              "            console.log([gd, 'removed!']);\n",
              "            Plotly.purge(gd);\n",
              "            observer.disconnect();\n",
              "        }}\n",
              "}});\n",
              "\n",
              "// Listen for the removal of the full notebook cells\n",
              "var notebookContainer = gd.closest('#notebook-container');\n",
              "if (notebookContainer) {{\n",
              "    x.observe(notebookContainer, {childList: true});\n",
              "}}\n",
              "\n",
              "// Listen for the clearing of the current output cell\n",
              "var outputEl = gd.closest('.output');\n",
              "if (outputEl) {{\n",
              "    x.observe(outputEl, {childList: true});\n",
              "}}\n",
              "\n",
              "                        })                };                            </script>        </div>\n",
              "</body>\n",
              "</html>"
            ]
          },
          "metadata": {}
        },
        {
          "output_type": "stream",
          "name": "stdout",
          "text": [
            "MAE: 62.03\n",
            "MSE: 5726.46\n",
            "RMSE: 75.67\n",
            "R2 Score: 0.63\n"
          ]
        }
      ],
      "source": [
        "# All Imports\n",
        "import pandas as pd\n",
        "import numpy as np\n",
        "import plotly.express as px\n",
        "from sklearn.datasets import make_regression\n",
        "from sklearn.model_selection import train_test_split\n",
        "from sklearn.linear_model import LinearRegression\n",
        "from sklearn.metrics import mean_absolute_error, mean_squared_error, r2_score\n",
        "\n",
        "# 1. Generate Synthetic Data\n",
        "X, y = make_regression(n_samples=100, n_features=2, n_informative=2, noise=50, random_state=42)\n",
        "\n",
        "# 2. Create DataFrame\n",
        "df = pd.DataFrame({\n",
        "    'Feature1': X[:, 0],\n",
        "    'Feature2': X[:, 1],\n",
        "    'Target': y\n",
        "})\n",
        "\n",
        "# 3. 3D Scatter Plot\n",
        "fig = px.scatter_3d(df, x='Feature1', y='Feature2', z='Target',\n",
        "                    title='3D Scatter Plot of Features vs Target',\n",
        "                    labels={'Feature1': 'Feature 1', 'Feature2': 'Feature 2', 'Target': 'Target'})\n",
        "fig.show()\n",
        "\n",
        "# 4. Train-Test Split\n",
        "X_train, X_test, y_train, y_test = train_test_split(X, y, test_size=0.2, random_state=1)\n",
        "\n",
        "# 5. Train Linear Regression Model\n",
        "model = LinearRegression()\n",
        "model.fit(X_train, y_train)\n",
        "\n",
        "# 6. Predict on Test Set\n",
        "y_pred = model.predict(X_test)\n",
        "\n",
        "# 7. Evaluation Metrics\n",
        "mae = mean_absolute_error(y_test, y_pred)\n",
        "mse = mean_squared_error(y_test, y_pred)\n",
        "rmse = np.sqrt(mse)\n",
        "r2 = r2_score(y_test, y_pred)\n",
        "\n",
        "# 8. Print Results\n",
        "print(f\"MAE: {mae:.2f}\")\n",
        "print(f\"MSE: {mse:.2f}\")\n",
        "print(f\"RMSE: {rmse:.2f}\")\n",
        "print(f\"R2 Score: {r2:.2f}\")\n"
      ]
    }
  ]
}