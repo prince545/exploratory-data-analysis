{
  "nbformat": 4,
  "nbformat_minor": 0,
  "metadata": {
    "colab": {
      "provenance": [],
      "authorship_tag": "ABX9TyMh4wHCOT+4jcdFepWIg9/k",
      "include_colab_link": true
    },
    "kernelspec": {
      "name": "python3",
      "display_name": "Python 3"
    },
    "language_info": {
      "name": "python"
    }
  },
  "cells": [
    {
      "cell_type": "markdown",
      "metadata": {
        "id": "view-in-github",
        "colab_type": "text"
      },
      "source": [
        "<a href=\"https://colab.research.google.com/github/prince545/ml-learning/blob/main/Bagging.ipynb\" target=\"_parent\"><img src=\"https://colab.research.google.com/assets/colab-badge.svg\" alt=\"Open In Colab\"/></a>"
      ]
    },
    {
      "cell_type": "code",
      "source": [
        "from sklearn.model_selection import train_test_split\n",
        "from sklearn.preprocessing import StandardScaler\n",
        "from sklearn.tree import DecisionTreeClassifier\n",
        "from sklearn.ensemble import BaggingClassifier, RandomForestClassifier\n",
        "from sklearn.svm import SVC\n",
        "from sklearn.metrics import accuracy_score\n",
        "import numpy as np\n",
        "\n",
        "# Assuming X and y are already defined\n",
        "X_train, X_test, y_train, y_test = train_test_split(X, y, test_size=0.2, random_state=42)\n",
        "\n",
        "# Feature scaling\n",
        "sc = StandardScaler()\n",
        "X_train = sc.fit_transform(X_train)\n",
        "X_test = sc.transform(X_test)\n"
      ],
      "metadata": {
        "id": "V4JZV-pHACxK"
      },
      "execution_count": 5,
      "outputs": []
    },
    {
      "cell_type": "code",
      "source": [
        "model_dt = DecisionTreeClassifier()\n",
        "model_dt.fit(X_train, y_train)\n",
        "y_pred_dt = model_dt.predict(X_test)\n",
        "\n",
        "acc_dt = round(accuracy_score(y_test, y_pred_dt) * 100, 2)\n",
        "print(f\"Decision Tree Accuracy: {acc_dt}%\")\n"
      ],
      "metadata": {
        "colab": {
          "base_uri": "https://localhost:8080/"
        },
        "id": "wo2sH9C3AFSQ",
        "outputId": "69a43ac0-e974-4fdb-cbc9-42b2cc1267d8"
      },
      "execution_count": 6,
      "outputs": [
        {
          "output_type": "stream",
          "name": "stdout",
          "text": [
            "Decision Tree Accuracy: 91.6%\n"
          ]
        }
      ]
    },
    {
      "cell_type": "code",
      "source": [
        "from sklearn.ensemble import BaggingClassifier\n",
        "from sklearn.tree import DecisionTreeClassifier\n",
        "\n",
        "bag = BaggingClassifier(\n",
        "    estimator=DecisionTreeClassifier(),\n",
        "    n_estimators=500,\n",
        "    max_samples=0.5,\n",
        "    bootstrap=True,\n",
        "    random_state=42\n",
        ")\n"
      ],
      "metadata": {
        "id": "7XZdAJz-AcsM"
      },
      "execution_count": 15,
      "outputs": []
    },
    {
      "cell_type": "code",
      "source": [
        "bag.fit(X_train, y_train)\n",
        "y_pred_bag = bag.predict(X_test)\n",
        "\n",
        "acc_bag = round(accuracy_score(y_test, y_pred_bag) * 100, 2)\n",
        "print(f\"Bagging Classifier Accuracy: {acc_bag}%\")"
      ],
      "metadata": {
        "colab": {
          "base_uri": "https://localhost:8080/"
        },
        "id": "jefs68YpAdyM",
        "outputId": "e2f633c8-ac8e-479e-b14b-cd8c9f9e15b2"
      },
      "execution_count": 16,
      "outputs": [
        {
          "output_type": "stream",
          "name": "stdout",
          "text": [
            "Bagging Classifier Accuracy: 94.4%\n"
          ]
        }
      ]
    },
    {
      "cell_type": "code",
      "source": [
        "rf = RandomForestClassifier(n_estimators=500, random_state=42)\n",
        "rf.fit(X_train, y_train)\n",
        "y_pred_rf = rf.predict(X_test)\n",
        "\n",
        "acc_rf = round(accuracy_score(y_test, y_pred_rf) * 100, 2)\n",
        "print(f\"Random Forest Accuracy: {acc_rf}%\")\n"
      ],
      "metadata": {
        "colab": {
          "base_uri": "https://localhost:8080/"
        },
        "id": "TqDGIOhmA2WI",
        "outputId": "c88ea4d6-da14-423c-b422-b62a9bc443a1"
      },
      "execution_count": 17,
      "outputs": [
        {
          "output_type": "stream",
          "name": "stdout",
          "text": [
            "Random Forest Accuracy: 94.25%\n"
          ]
        }
      ]
    },
    {
      "cell_type": "code",
      "source": [
        "from sklearn.ensemble import BaggingClassifier\n",
        "from sklearn.svm import SVC\n",
        "from sklearn.metrics import accuracy_score\n",
        "\n",
        "bag_svm = BaggingClassifier(\n",
        "    estimator=SVC(),\n",
        "    n_estimators=500,\n",
        "    max_samples=0.25,\n",
        "    bootstrap=True,\n",
        "    random_state=42\n",
        ")\n",
        "\n",
        "bag_svm.fit(X_train, y_train)\n",
        "y_pred_bag_svm = bag_svm.predict(X_test)\n",
        "\n",
        "acc_bag_svm = round(accuracy_score(y_test, y_pred_bag_svm) * 100, 2)\n",
        "print(f\"Bagging SVM Classifier Accuracy: {acc_bag_svm}%\")\n"
      ],
      "metadata": {
        "colab": {
          "base_uri": "https://localhost:8080/"
        },
        "id": "T8XMGxwmBg6_",
        "outputId": "aed54556-20ae-4f4f-c9af-d3a1bca59570"
      },
      "execution_count": 19,
      "outputs": [
        {
          "output_type": "stream",
          "name": "stdout",
          "text": [
            "Bagging SVM Classifier Accuracy: 89.8%\n"
          ]
        }
      ]
    },
    {
      "cell_type": "code",
      "source": [
        "from sklearn.datasets import make_regression\n",
        "from sklearn.model_selection import train_test_split\n",
        "from sklearn.tree import DecisionTreeRegressor\n",
        "from sklearn.ensemble import BaggingRegressor, RandomForestRegressor\n",
        "from sklearn.svm import SVR\n",
        "from sklearn.metrics import r2_score, mean_absolute_error, mean_squared_error\n",
        "import numpy as np\n",
        "import pandas as pd\n",
        "\n",
        "# 1. Generate Regression Dataset\n",
        "X, y = make_regression(n_samples=1000, n_features=20, noise=10, random_state=42)\n",
        "X_train, X_test, y_train, y_test = train_test_split(X, y, test_size=0.2, random_state=42)\n",
        "\n",
        "# 2. Initialize models\n",
        "models = {\n",
        "    \"Decision Tree\": DecisionTreeRegressor(),\n",
        "    \"Bagging (DT)\": BaggingRegressor(estimator=DecisionTreeRegressor(), n_estimators=10, random_state=42),\n",
        "    \"Random Forest\": RandomForestRegressor(n_estimators=10, random_state=42),\n",
        "    \"Bagging (SVR)\": BaggingRegressor(estimator=SVR(), n_estimators=10, random_state=42),\n",
        "    \"Pasting (DT)\": BaggingRegressor(estimator=DecisionTreeRegressor(), n_estimators=10, bootstrap=False, random_state=42)\n",
        "}\n",
        "\n",
        "\n",
        "# 3. Evaluation\n",
        "results = []\n",
        "\n",
        "for name, model in models.items():\n",
        "    model.fit(X_train, y_train)\n",
        "    y_pred = model.predict(X_test)\n",
        "\n",
        "    r2 = r2_score(y_test, y_pred)\n",
        "    mae = mean_absolute_error(y_test, y_pred)\n",
        "    rmse = np.sqrt(mean_squared_error(y_test, y_pred))\n",
        "\n",
        "    results.append([name, r2, mae, rmse])\n",
        "\n",
        "# 4. Display Results\n",
        "df_results = pd.DataFrame(results, columns=[\"Model\", \"R2 Score\", \"MAE\", \"RMSE\"])\n",
        "print(df_results.sort_values(by=\"RMSE\"))\n"
      ],
      "metadata": {
        "colab": {
          "base_uri": "https://localhost:8080/"
        },
        "id": "V8o0zw5uMy_A",
        "outputId": "06e889b1-ed70-456c-a2f6-970696fa3624"
      },
      "execution_count": 21,
      "outputs": [
        {
          "output_type": "stream",
          "name": "stdout",
          "text": [
            "           Model  R2 Score         MAE        RMSE\n",
            "2  Random Forest  0.801532   68.862229   87.851864\n",
            "1   Bagging (DT)  0.800919   68.155076   87.987351\n",
            "4   Pasting (DT)  0.444849  119.367269  146.930056\n",
            "0  Decision Tree  0.390963  123.745711  153.895878\n",
            "3  Bagging (SVR)  0.089031  149.925118  188.216239\n"
          ]
        }
      ]
    }
  ]
}