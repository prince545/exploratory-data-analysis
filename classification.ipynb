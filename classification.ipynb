{
  "nbformat": 4,
  "nbformat_minor": 0,
  "metadata": {
    "colab": {
      "provenance": [],
      "authorship_tag": "ABX9TyMZSQjWPO7mL62tOjQz2yrQ",
      "include_colab_link": true
    },
    "kernelspec": {
      "name": "python3",
      "display_name": "Python 3"
    },
    "language_info": {
      "name": "python"
    }
  },
  "cells": [
    {
      "cell_type": "markdown",
      "metadata": {
        "id": "view-in-github",
        "colab_type": "text"
      },
      "source": [
        "<a href=\"https://colab.research.google.com/github/prince545/ml-learning/blob/main/classification.ipynb\" target=\"_parent\"><img src=\"https://colab.research.google.com/assets/colab-badge.svg\" alt=\"Open In Colab\"/></a>"
      ]
    },
    {
      "cell_type": "code",
      "source": [
        "import pandas as pd\n",
        "import numpy as np\n",
        "import matplotlib.pyplot as plt\n",
        "import seaborn as sns\n",
        "\n",
        "# Load data\n",
        "df = pd.read_csv(\"/content/WA_Fn-UseC_-Telco-Customer-Churn.csv\")\n",
        "\n",
        "# Drop missing values\n",
        "df.dropna(how='any', inplace=True)\n",
        "\n",
        "# Convert 'TotalCharges' to numeric (in case of spaces)\n",
        "df['TotalCharges'] = pd.to_numeric(df['TotalCharges'], errors='coerce')\n",
        "df.dropna(subset=['TotalCharges'], inplace=True)\n",
        "\n",
        "# Encode target variable\n",
        "df['Churn'] = df['Churn'].map({'Yes': 1, 'No': 0})\n",
        "\n",
        "# Drop irrelevant column\n",
        "df.drop('customerID', axis=1, inplace=True)\n",
        "\n",
        "# One-hot encode categorical features\n",
        "X = pd.get_dummies(df.drop('Churn', axis=1), drop_first=True)\n",
        "y = df['Churn']\n",
        "\n",
        "# Train-test split\n",
        "from sklearn.model_selection import train_test_split\n",
        "X_train, X_test, y_train, y_test = train_test_split(X, y, test_size=0.2, random_state=42)\n",
        "\n",
        "# Standardization\n",
        "from sklearn.preprocessing import StandardScaler\n",
        "scaler = StandardScaler()\n",
        "X_train_scaled = scaler.fit_transform(X_train)\n",
        "X_test_scaled = scaler.transform(X_test)\n",
        "\n",
        "# Import classifiers and metrics\n",
        "from sklearn.metrics import accuracy_score, classification_report\n",
        "from sklearn.neighbors import KNeighborsClassifier\n",
        "from sklearn.tree import DecisionTreeClassifier\n",
        "from sklearn.ensemble import RandomForestClassifier\n",
        "from sklearn.naive_bayes import BernoulliNB\n",
        "from sklearn.svm import SVC\n",
        "from sklearn.linear_model import LogisticRegression\n",
        "\n",
        "# Models dictionary\n",
        "models = {\n",
        "    \"KNN\": KNeighborsClassifier(),\n",
        "    \"Decision Tree\": DecisionTreeClassifier(),\n",
        "    \"Random Forest\": RandomForestClassifier(n_estimators=200),\n",
        "    \"Naive Bayes\": BernoulliNB(),\n",
        "    \"SVM\": SVC(),\n",
        "    \"Logistic Regression\": LogisticRegression(max_iter=1000)\n",
        "}\n",
        "\n",
        "# Evaluate each model\n",
        "results = []\n",
        "\n",
        "for name, model in models.items():\n",
        "    model.fit(X_train_scaled, y_train)\n",
        "    y_pred = model.predict(X_test_scaled)\n",
        "\n",
        "    acc = accuracy_score(y_test, y_pred)\n",
        "    report = classification_report(y_test, y_pred, output_dict=True)\n",
        "    precision = report['1']['precision']\n",
        "    recall = report['1']['recall']\n",
        "    f1 = report['1']['f1-score']\n",
        "\n",
        "    results.append({\n",
        "        'Model': name,\n",
        "        'Accuracy': round(acc * 100, 2),\n",
        "        'Precision': round(precision * 100, 2),\n",
        "        'Recall': round(recall * 100, 2),\n",
        "        'F1-Score': round(f1 * 100, 2)\n",
        "    })\n",
        "\n",
        "# Display results\n",
        "results_df = pd.DataFrame(results)\n",
        "print(results_df)\n"
      ],
      "metadata": {
        "colab": {
          "base_uri": "https://localhost:8080/"
        },
        "id": "7jEv76m-IqOX",
        "outputId": "03282e5d-fae4-4d83-cf31-e2e38a646c52"
      },
      "execution_count": 39,
      "outputs": [
        {
          "output_type": "stream",
          "name": "stdout",
          "text": [
            "                 Model  Accuracy  Precision  Recall  F1-Score\n",
            "0                  KNN     75.27      53.67   50.80     52.20\n",
            "1        Decision Tree     71.71      47.00   50.27     48.58\n",
            "2        Random Forest     78.68      63.21   47.33     54.13\n",
            "3          Naive Bayes     71.57      47.90   79.14     59.68\n",
            "4                  SVM     78.11      61.62   46.79     53.19\n",
            "5  Logistic Regression     78.75      62.06   51.60     56.35\n"
          ]
        }
      ]
    }
  ]
}