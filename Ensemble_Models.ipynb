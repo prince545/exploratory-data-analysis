{
  "nbformat": 4,
  "nbformat_minor": 0,
  "metadata": {
    "colab": {
      "provenance": [],
      "authorship_tag": "ABX9TyNYiBe0qNB0iGR+OVrcCE39",
      "include_colab_link": true
    },
    "kernelspec": {
      "name": "python3",
      "display_name": "Python 3"
    },
    "language_info": {
      "name": "python"
    }
  },
  "cells": [
    {
      "cell_type": "markdown",
      "metadata": {
        "id": "view-in-github",
        "colab_type": "text"
      },
      "source": [
        "<a href=\"https://colab.research.google.com/github/prince545/ml-learning/blob/main/Ensemble_Models.ipynb\" target=\"_parent\"><img src=\"https://colab.research.google.com/assets/colab-badge.svg\" alt=\"Open In Colab\"/></a>"
      ]
    },
    {
      "cell_type": "code",
      "execution_count": 1,
      "metadata": {
        "colab": {
          "base_uri": "https://localhost:8080/"
        },
        "id": "GyUiZUQvSCBh",
        "outputId": "59fc1def-404e-4fe2-caa3-94995a4066a6"
      },
      "outputs": [
        {
          "output_type": "stream",
          "name": "stdout",
          "text": [
            "\n",
            "Random Forest Accuracy: 0.7804\n",
            "              precision    recall  f1-score   support\n",
            "\n",
            "           0       0.83      0.89      0.86      1300\n",
            "           1       0.60      0.47      0.52       458\n",
            "\n",
            "    accuracy                           0.78      1758\n",
            "   macro avg       0.71      0.68      0.69      1758\n",
            "weighted avg       0.77      0.78      0.77      1758\n",
            "\n",
            "\n",
            "AdaBoost Accuracy: 0.7901\n",
            "              precision    recall  f1-score   support\n",
            "\n",
            "           0       0.84      0.89      0.86      1300\n",
            "           1       0.62      0.51      0.56       458\n",
            "\n",
            "    accuracy                           0.79      1758\n",
            "   macro avg       0.73      0.70      0.71      1758\n",
            "weighted avg       0.78      0.79      0.78      1758\n",
            "\n",
            "\n",
            "Gradient Boosting Accuracy: 0.7895\n",
            "              precision    recall  f1-score   support\n",
            "\n",
            "           0       0.83      0.89      0.86      1300\n",
            "           1       0.62      0.49      0.55       458\n",
            "\n",
            "    accuracy                           0.79      1758\n",
            "   macro avg       0.73      0.69      0.71      1758\n",
            "weighted avg       0.78      0.79      0.78      1758\n",
            "\n"
          ]
        },
        {
          "output_type": "stream",
          "name": "stderr",
          "text": [
            "/usr/local/lib/python3.11/dist-packages/xgboost/core.py:158: UserWarning: [16:33:45] WARNING: /workspace/src/learner.cc:740: \n",
            "Parameters: { \"use_label_encoder\" } are not used.\n",
            "\n",
            "  warnings.warn(smsg, UserWarning)\n"
          ]
        },
        {
          "output_type": "stream",
          "name": "stdout",
          "text": [
            "\n",
            "XGBoost Accuracy: 0.7793\n",
            "              precision    recall  f1-score   support\n",
            "\n",
            "           0       0.83      0.88      0.86      1300\n",
            "           1       0.59      0.49      0.54       458\n",
            "\n",
            "    accuracy                           0.78      1758\n",
            "   macro avg       0.71      0.69      0.70      1758\n",
            "weighted avg       0.77      0.78      0.77      1758\n",
            "\n"
          ]
        }
      ],
      "source": [
        "# 1. Imports\n",
        "import pandas as pd\n",
        "import numpy as np\n",
        "from sklearn.model_selection import train_test_split\n",
        "from sklearn.preprocessing import StandardScaler\n",
        "from sklearn.metrics import accuracy_score, classification_report\n",
        "from sklearn.ensemble import RandomForestClassifier, AdaBoostClassifier, GradientBoostingClassifier\n",
        "from xgboost import XGBClassifier\n",
        "\n",
        "# 2. Load dataset\n",
        "data = pd.read_csv('/content/WA_Fn-UseC_-Telco-Customer-Churn.csv')\n",
        "\n",
        "# 3. Data Cleaning\n",
        "data['TotalCharges'] = pd.to_numeric(data['TotalCharges'], errors='coerce')\n",
        "data.dropna(inplace=True)\n",
        "data['Churn'] = data['Churn'].map({'No': 0, 'Yes': 1})\n",
        "data.drop('customerID', axis=1, inplace=True)\n",
        "\n",
        "# 4. Encode categorical features\n",
        "X = pd.get_dummies(data.drop('Churn', axis=1))\n",
        "y = data['Churn']\n",
        "\n",
        "# 5. Train-Test Split\n",
        "X_train, X_test, y_train, y_test = train_test_split(X, y, test_size=0.25, random_state=42)\n",
        "\n",
        "# 6. Feature Scaling\n",
        "scaler = StandardScaler()\n",
        "X_train_scaled = scaler.fit_transform(X_train)\n",
        "X_test_scaled = scaler.transform(X_test)\n",
        "\n",
        "# 7. Define ensemble models\n",
        "models = {\n",
        "    \"Random Forest\": RandomForestClassifier(n_estimators=200, random_state=42),\n",
        "    \"AdaBoost\": AdaBoostClassifier(n_estimators=200, random_state=42),\n",
        "    \"Gradient Boosting\": GradientBoostingClassifier(n_estimators=200, random_state=42),\n",
        "    \"XGBoost\": XGBClassifier(n_estimators=200, learning_rate=0.1, use_label_encoder=False, eval_metric='logloss', random_state=42)\n",
        "}\n",
        "\n",
        "# 8. Train and Evaluate Models\n",
        "for name, model in models.items():\n",
        "    model.fit(X_train_scaled, y_train)\n",
        "    y_pred = model.predict(X_test_scaled)\n",
        "    print(f\"\\n{name} Accuracy: {accuracy_score(y_test, y_pred):.4f}\")\n",
        "    print(classification_report(y_test, y_pred))\n"
      ]
    }
  ]
}